{
 "cells": [
  {
   "cell_type": "code",
   "execution_count": 16,
   "id": "0ea502ad",
   "metadata": {},
   "outputs": [
    {
     "name": "stdout",
     "output_type": "stream",
     "text": [
      "Train RMSE = 5.6371293350711955\n",
      "Train R2 score = 0.6300745149331701\n",
      "\n",
      "\n",
      "Test RMSE = 5.137400784702911\n",
      "Test R2 score = 0.6628996975186954\n"
     ]
    },
    {
     "name": "stderr",
     "output_type": "stream",
     "text": [
      "C:\\Users\\Asus\\anaconda3\\lib\\site-packages\\sklearn\\utils\\deprecation.py:87: FutureWarning: Function load_boston is deprecated; `load_boston` is deprecated in 1.0 and will be removed in 1.2.\n",
      "\n",
      "    The Boston housing prices dataset has an ethical problem. You can refer to\n",
      "    the documentation of this function for further details.\n",
      "\n",
      "    The scikit-learn maintainers therefore strongly discourage the use of this\n",
      "    dataset unless the purpose of the code is to study and educate about\n",
      "    ethical issues in data science and machine learning.\n",
      "\n",
      "    In this special case, you can fetch the dataset from the original\n",
      "    source::\n",
      "\n",
      "        import pandas as pd\n",
      "        import numpy as np\n",
      "\n",
      "\n",
      "        data_url = \"http://lib.stat.cmu.edu/datasets/boston\"\n",
      "        raw_df = pd.read_csv(data_url, sep=\"\\s+\", skiprows=22, header=None)\n",
      "        data = np.hstack([raw_df.values[::2, :], raw_df.values[1::2, :2]])\n",
      "        target = raw_df.values[1::2, 2]\n",
      "\n",
      "    Alternative datasets include the California housing dataset (i.e.\n",
      "    :func:`~sklearn.datasets.fetch_california_housing`) and the Ames housing\n",
      "    dataset. You can load the datasets as follows::\n",
      "\n",
      "        from sklearn.datasets import fetch_california_housing\n",
      "        housing = fetch_california_housing()\n",
      "\n",
      "    for the California housing dataset and::\n",
      "\n",
      "        from sklearn.datasets import fetch_openml\n",
      "        housing = fetch_openml(name=\"house_prices\", as_frame=True)\n",
      "\n",
      "    for the Ames housing dataset.\n",
      "    \n",
      "  warnings.warn(msg, category=FutureWarning)\n"
     ]
    }
   ],
   "source": [
    "import numpy as np\n",
    "from sklearn.linear_model import LinearRegression\n",
    "from sklearn import datasets\n",
    "from sklearn.model_selection import train_test_split\n",
    "from sklearn.metrics import mean_squared_error\n",
    "from sklearn.metrics import r2_score\n",
    "\n",
    "boston = datasets.load_boston()\n",
    "X=boston.data\n",
    "y=boston.target\n",
    "X=X[:,[5,12]] #here we are selecting 2 columns namely 5 and 12\n",
    "\n",
    "X_train, X_test, y_train, y_test=train_test_split(X,y,test_size=0.2,random_state=5)\n",
    "#test_size=0.2 means that we are only using 20% of data for test, rest 80% we will use for training\n",
    "\n",
    "reg=LinearRegression()\n",
    "reg.fit(X_train,y_train)\n",
    "\n",
    "y_train_predict=reg.predict(X_train)\n",
    "rmse=np.sqrt(mean_squared_error(y_train,y_train_predict))\n",
    "r2=r2_score(y_train, y_train_predict)\n",
    "\n",
    "print('Train RMSE =', rmse)\n",
    "print('Train R2 score =', r2)\n",
    "print(\"\\n\")\n",
    "\n",
    "y_test_predict = reg.predict(X_test)\n",
    "rmse = (np.sqrt(mean_squared_error(y_test, y_test_predict)))\n",
    "r2 = r2_score(y_test, y_test_predict)\n",
    "print('Test RMSE =', rmse)\n",
    "print('Test R2 score =', r2)\n"
   ]
  },
  {
   "cell_type": "markdown",
   "id": "da3f5a88",
   "metadata": {},
   "source": [
    "**What is r2 score?**\n",
    "<br>…the proportion of the variance in the dependent variable that is predictable from the independent variable(s).” Another definition is “(total variance explained by model) / total variance.” So if it is 100%, the two variables are perfectly correlated, i.e., with no variance at all"
   ]
  },
  {
   "cell_type": "markdown",
   "id": "5dacfea8",
   "metadata": {},
   "source": [
    "if r2 score is -ve, then it means that it is very worse case scenerio and there is no correlation between the variables"
   ]
  },
  {
   "cell_type": "code",
   "execution_count": null,
   "id": "bd90714c",
   "metadata": {},
   "outputs": [],
   "source": []
  }
 ],
 "metadata": {
  "kernelspec": {
   "display_name": "Python 3 (ipykernel)",
   "language": "python",
   "name": "python3"
  },
  "language_info": {
   "codemirror_mode": {
    "name": "ipython",
    "version": 3
   },
   "file_extension": ".py",
   "mimetype": "text/x-python",
   "name": "python",
   "nbconvert_exporter": "python",
   "pygments_lexer": "ipython3",
   "version": "3.9.13"
  }
 },
 "nbformat": 4,
 "nbformat_minor": 5
}
