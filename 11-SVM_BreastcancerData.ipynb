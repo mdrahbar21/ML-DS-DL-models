{
 "cells": [
  {
   "cell_type": "code",
   "execution_count": 2,
   "id": "8e5b9d2a",
   "metadata": {},
   "outputs": [
    {
     "name": "stdout",
     "output_type": "stream",
     "text": [
      "Accuracy score of Linear SVM Classifier is 95.8041958041958 %\n",
      "\n",
      "Accuracy score of Kernel SVM Classifier with RBF is 96.5034965034965 %\n",
      "\n"
     ]
    }
   ],
   "source": [
    "from sklearn import datasets\n",
    "from sklearn.model_selection import train_test_split\n",
    "from sklearn.metrics import confusion_matrix\n",
    "from sklearn.preprocessing import StandardScaler\n",
    "from sklearn.metrics import accuracy_score\n",
    "from sklearn.svm import SVC\n",
    "\n",
    "\n",
    "bcancer = datasets.load_breast_cancer()\n",
    "\n",
    "X = bcancer.data\n",
    "Y = bcancer.target\n",
    "\n",
    "scaler=StandardScaler()\n",
    "X=scaler.fit_transform(X)\n",
    "\n",
    "\n",
    "Xtrain, Xtest, Ytrain, Ytest = train_test_split(X, Y, test_size = 0.25) \n",
    "\n",
    "\n",
    "# Linear SVM\n",
    "\n",
    "svmc=SVC(kernel='linear')\n",
    "svmc.fit(Xtrain,Ytrain)\n",
    "Ypred=svmc.predict(Xtest)\n",
    "svmcscore=accuracy_score(Ypred,Ytest)\n",
    "print('Accuracy score of Linear SVM Classifier is',100*svmcscore,'%\\n')\n",
    "\n",
    "# Kernel SVM RBF\n",
    "\n",
    "ksvmc=SVC(kernel='rbf')\n",
    "ksvmc.fit(Xtrain, Ytrain)\n",
    "Ypred = ksvmc.predict(Xtest)\n",
    "svmcscore = accuracy_score(Ypred,Ytest)\n",
    "print('Accuracy score of Kernel SVM Classifier with RBF is',100*svmcscore,'%\\n')\n"
   ]
  },
  {
   "cell_type": "code",
   "execution_count": null,
   "id": "55afcd0b",
   "metadata": {},
   "outputs": [],
   "source": []
  }
 ],
 "metadata": {
  "kernelspec": {
   "display_name": "Python 3 (ipykernel)",
   "language": "python",
   "name": "python3"
  },
  "language_info": {
   "codemirror_mode": {
    "name": "ipython",
    "version": 3
   },
   "file_extension": ".py",
   "mimetype": "text/x-python",
   "name": "python",
   "nbconvert_exporter": "python",
   "pygments_lexer": "ipython3",
   "version": "3.9.13"
  }
 },
 "nbformat": 4,
 "nbformat_minor": 5
}
